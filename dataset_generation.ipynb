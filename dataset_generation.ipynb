{
  "cells": [
    {
      "cell_type": "markdown",
      "metadata": {
        "id": "view-in-github",
        "colab_type": "text"
      },
      "source": [
        "<a href=\"https://colab.research.google.com/github/EdWangLoDaSc/Physical-based-Spatial-time-series-Prediction/blob/main/dataset_generation.ipynb\" target=\"_parent\"><img src=\"https://colab.research.google.com/assets/colab-badge.svg\" alt=\"Open In Colab\"/></a>"
      ]
    },
    {
      "cell_type": "code",
      "execution_count": 5,
      "metadata": {
        "id": "BthVZmdWJcLR"
      },
      "outputs": [],
      "source": [
        "# Standard library imports\n",
        "import math\n",
        "import pickle\n",
        "import random\n",
        "import time\n",
        "\n",
        "# Third-party library imports\n",
        "import matplotlib as mpl\n",
        "import matplotlib.animation as animation\n",
        "import matplotlib.gridspec as gridspec\n",
        "import matplotlib.pyplot as plt\n",
        "import numpy as np\n",
        "import pandas as pd\n",
        "from PIL import Image\n",
        "from scipy.interpolate import griddata\n",
        "from scipy import stats\n",
        "from sklearn.model_selection import train_test_split\n",
        "from sklearn.preprocessing import MinMaxScaler, StandardScaler\n",
        "from skimage.metrics import structural_similarity as ssim\n"
      ]
    },
    {
      "cell_type": "code",
      "execution_count": 2,
      "metadata": {
        "colab": {
          "base_uri": "https://localhost:8080/"
        },
        "id": "zAIr49aBdy46",
        "outputId": "a2504378-bdf2-4122-9726-d24a8affea04"
      },
      "outputs": [
        {
          "output_type": "stream",
          "name": "stdout",
          "text": [
            "Mounted at /content/drive\n"
          ]
        }
      ],
      "source": [
        "from google.colab import drive\n",
        "drive.mount('/content/drive')"
      ]
    },
    {
      "cell_type": "code",
      "source": [
        "def x_to_y(X): # averaging in 2*2 windows (4 pixels)\n",
        "    dim = X.shape[0]\n",
        "    dim = 20\n",
        "    Y = np.zeros((int(dim/2),int(dim/2)))\n",
        "    for i in range(int(dim/2)):\n",
        "        for j in range(int(dim/2)):\n",
        "            Y[i,j] = X[2*i,2*j] + X[2*i+1,2*j] + X[2*i,2*j+1] + X[2*i+1,2*j+1]\n",
        "\n",
        "            Y_noise = np.random.multivariate_normal(np.zeros(100),0.0000 * np.eye(100))\n",
        "            Y_noise.shape = (10,10)\n",
        "            Y = Y + Y_noise\n",
        "    return Y\n",
        "\n",
        "\n",
        "class shallow(object):\n",
        "\n",
        "    time = 0\n",
        "\n",
        "    plt = []\n",
        "    fig = []\n",
        "\n",
        "\n",
        "    def __init__(self, x=[],y=[],h_ini = 1.,u=[],v = [],dx=0.01,dt=0.0001, N=64,L=1., px=16, py=16, R=64, Hp=0.1, g=1., b=0.): # How define no default argument before?\n",
        "\n",
        "\n",
        "        # add a perturbation in pressure surface\n",
        "\n",
        "\n",
        "        self.px, self.py = px, py\n",
        "        self.R = R\n",
        "        self.Hp = Hp\n",
        "\n",
        "\n",
        "\n",
        "        # Physical parameters\n",
        "\n",
        "        self.g = g\n",
        "        self.b = b\n",
        "        self.L=L\n",
        "        self.N=N\n",
        "\n",
        "        self.dx=dx\n",
        "        self.dt=dt\n",
        "\n",
        "        self.x,self.y = mgrid[:self.N,:self.N]\n",
        "\n",
        "        self.u=zeros((self.N,self.N))\n",
        "        self.v=zeros((self.N,self.N))\n",
        "\n",
        "        self.h_ini=h_ini\n",
        "\n",
        "        self.h=self.h_ini * ones((self.N,self.N))\n",
        "\n",
        "        rr = (self.x-px)**2 + (self.y-py)**2\n",
        "        self.h[rr<R] = self.h_ini + Hp #set initial conditions\n",
        "\n",
        "        self.lims = [(self.h_ini-self.Hp,self.h_ini+self.Hp),(-0.02,0.02),(-0.02,0.02)]\n",
        "\n",
        "\n",
        "\n",
        "    def dxy(self, A, axis=0):\n",
        "        \"\"\"\n",
        "        Compute derivative of array A using balanced finite differences\n",
        "        Axis specifies direction of spatial derivative (d/dx or d/dy)\n",
        "        dA[i]/dx =  (A[i+1] - A[i-1] )  / 2dx\n",
        "        \"\"\"\n",
        "        return (roll(A, -1, axis) - roll(A, 1, axis)) / (self.dx*2.) # roll: shift the array axis=0 shift the horizontal axis\n",
        "\n",
        "    def d_dx(self, A):\n",
        "        return self.dxy(A,1)\n",
        "\n",
        "    def d_dy(self, A):\n",
        "        return self.dxy(A,0)\n",
        "\n",
        "\n",
        "    def d_dt(self, h, u, v):\n",
        "        \"\"\"\n",
        "        http://en.wikipedia.org/wiki/Shallow_water_equations#Non-conservative_form\n",
        "        \"\"\"\n",
        "        for x in [h, u, v]: # type check\n",
        "           assert isinstance(x, ndarray) and not isinstance(x, matrix)\n",
        "\n",
        "        g,b,dx = self.g, self.b, self.dx\n",
        "\n",
        "        du_dt = -g*self.d_dx(h) - b*u\n",
        "        dv_dt = -g*self.d_dy(h) - b*v\n",
        "\n",
        "        H = 0 #h.mean() - our definition of h includes this term\n",
        "        dh_dt = -self.d_dx(u * (H+h)) - self.d_dy(v * (H+h))\n",
        "\n",
        "        return dh_dt, du_dt, dv_dt\n",
        "\n",
        "\n",
        "    def evolve(self):\n",
        "        \"\"\"\n",
        "        Evolve state (h, u, v) forward in time using simple Euler method\n",
        "        x_{N+1} = x_{N} +   dx/dt * d_t\n",
        "        \"\"\"\n",
        "\n",
        "        dh_dt, du_dt, dv_dt = self.d_dt(self.h, self.u, self.v)\n",
        "        dt = self.dt\n",
        "\n",
        "        self.h += dh_dt * dt\n",
        "        self.u += du_dt * dt\n",
        "        self.v += dv_dt * dt\n",
        "        self.time += dt\n",
        "\n",
        "        return self.h, self.u, self.v"
      ],
      "metadata": {
        "id": "mWBI4b3eJyWx"
      },
      "execution_count": 3,
      "outputs": []
    },
    {
      "cell_type": "code",
      "source": [
        "import random as rand\n",
        "def simu(iteration_times, Hp, R, n_steps,blank_steps, px, py):\n",
        "    SW = shallow(N=64, px=px, py=py, R=R, Hp=Hp, b=0.2)\n",
        "    num = (iteration_times - blank_steps) // n_steps\n",
        "    true_u_vect = np.zeros((num, SW.N, SW.N))\n",
        "    true_v_vect = np.zeros((num, SW.N, SW.N))\n",
        "    true_h_vect = np.zeros((num, SW.N, SW.N))\n",
        "    index = 0\n",
        "\n",
        "    for i in range(iteration_times):\n",
        "        SW.evolve()\n",
        "\n",
        "        if i % n_steps == 0 and i >= 500:\n",
        "            true_u_vect[index], true_v_vect[index], true_h_vect[index] = SW.u, SW.v, SW.h\n",
        "            index += 1\n",
        "\n",
        "    return true_u_vect, true_v_vect, true_h_vect\n",
        "\n",
        "\n",
        "def structure_obs(N, random_range):\n",
        "    x = np.arange(0, N, 5)\n",
        "    y = np.arange(0, N, 5)\n",
        "    x_list, y_list = np.meshgrid(x, y)\n",
        "\n",
        "    x_coord = np.empty(x_list.size, dtype=int)\n",
        "    y_coord = np.empty(y_list.size, dtype=int)\n",
        "\n",
        "    for i, (x_val, y_val) in enumerate(zip(x_list.flatten(), y_list.flatten())):\n",
        "        if (i+1) % 64 != 0:\n",
        "            x_val += rand.randint(0, random_range)\n",
        "            y_val += rand.randint(0, random_range)\n",
        "\n",
        "        x_coord[i] = x_val if x_val < N else N - 1\n",
        "        y_coord[i] = y_val if y_val < N else N - 1\n",
        "\n",
        "    return x_coord, y_coord"
      ],
      "metadata": {
        "id": "dqzsnMlkJzqT"
      },
      "execution_count": 4,
      "outputs": []
    },
    {
      "cell_type": "code",
      "source": [
        "random.seed(1)\n",
        "second_element_range = (0.4, 1)\n",
        "third_element_range = (4, 8)\n",
        "\n",
        "# Number of random tuples to generate\n",
        "num_random_tuples = 150\n",
        "steps = 3500\n",
        "blank_steps = 500\n",
        "px = 32\n",
        "py = 32\n",
        "# Generate random tuples\n",
        "sim_params = [(steps,\n",
        "               round(random.uniform(*second_element_range), 2),\n",
        "               random.randint(*third_element_range),\n",
        "               10,\n",
        "               blank_steps,\n",
        "               px,#np.random.randint(30, 34),  # px\n",
        "               py)#random.randint(30, 34))  # py\n",
        "              for _ in range(num_random_tuples)]\n",
        "# Simulate data and stack the results\n",
        "def simulate_and_stack(sim_params):\n",
        "    true_u_vect, true_v_vect, true_h_vect = [], [], []\n",
        "    for nsteps, hp, r, n,blank,px,py in sim_params:\n",
        "        u, v, h = simu(nsteps, hp, r**2, n,blank,px,py)\n",
        "        true_u_vect.append(u)\n",
        "        true_v_vect.append(v)\n",
        "        true_h_vect.append(h)\n",
        "\n",
        "    true_u_vect = np.vstack(true_u_vect)\n",
        "    true_v_vect = np.vstack(true_v_vect)\n",
        "    true_h_vect = np.vstack(true_h_vect)\n",
        "\n",
        "    return true_u_vect, true_v_vect, true_h_vect\n",
        "\n",
        "# Simulate data and stack the results\n",
        "true_u_vect, true_v_vect, true_h_vect = simulate_and_stack(sim_params)"
      ],
      "metadata": {
        "id": "ikLL4ffXJ8xs"
      },
      "execution_count": 14,
      "outputs": []
    },
    {
      "cell_type": "code",
      "source": [
        "first_params = sim_params[:120]  # Adjusted for demonstration\n",
        "last_params = sim_params[-30:]  # Adjusted for demonstration\n",
        "\n",
        "# Extracting second and third parameters\n",
        "first_second_param = [param[1] for param in first_params]\n",
        "first_third_param = [param[2] for param in first_params]\n",
        "last_second_param = [param[1] for param in last_params]\n",
        "last_third_param = [param[2] for param in last_params]\n",
        "\n",
        "# Statistical analysis (Kolmogorov-Smirnov test for comparing distributions)\n",
        "ks_2nd_param = stats.ks_2samp(first_second_param, last_second_param)\n",
        "ks_3rd_param = stats.ks_2samp(first_third_param, last_third_param)\n",
        "\n",
        "# Plotting\n",
        "fig, axs = plt.subplots(1, 2, figsize=(12, 6))\n",
        "\n",
        "# Plotting distributions of the second parameter\n",
        "axs[0].hist(first_second_param, alpha=0.5, label='First Group Second Param')\n",
        "axs[0].hist(last_second_param, alpha=0.5, label='Last Group Second Param')\n",
        "axs[0].set_title('Distribution of Second Parameter')\n",
        "axs[0].legend()\n",
        "\n",
        "# Plotting distributions of the third parameter\n",
        "axs[1].hist(first_third_param, alpha=0.5, label='First Group Third Param')\n",
        "axs[1].hist(last_third_param, alpha=0.5, label='Last Group Third Param')\n",
        "axs[1].set_title('Distribution of Third Parameter')\n",
        "axs[1].legend()\n",
        "\n",
        "plt.tight_layout()\n",
        "plt.show()\n",
        "\n",
        "ks_2nd_param, ks_3rd_param\n"
      ],
      "metadata": {
        "colab": {
          "base_uri": "https://localhost:8080/",
          "height": 643
        },
        "id": "e46X1pYNLcmG",
        "outputId": "c91b3892-e287-4bd0-a470-fac172127a68"
      },
      "execution_count": 19,
      "outputs": [
        {
          "output_type": "display_data",
          "data": {
            "text/plain": [
              "<Figure size 1200x600 with 2 Axes>"
            ],
            "image/png": "[encoded data removed]"
          },
          "metadata": {}
        },
        {
          "output_type": "execute_result",
          "data": {
            "text/plain": [
              "(KstestResult(statistic=0.24166666666666667, pvalue=0.109660202343656, statistic_location=0.53, statistic_sign=-1),\n",
              " KstestResult(statistic=0.15, pvalue=0.6234534840502581, statistic_location=6, statistic_sign=-1))"
            ]
          },
          "metadata": {},
          "execution_count": 19
        }
      ]
    },
    {
      "cell_type": "code",
      "source": [
        "np.save('/content/drive/MyDrive/Physics/Physics/Dataset10/true_u_full.npy',true_u_vect)\n",
        "np.save('/content/drive/MyDrive/Physics/Physics/Dataset10/true_v_full.npy',true_v_vect)\n",
        "np.save('/content/drive/MyDrive/Physics/Physics/Dataset10/true_h_full.npy',true_h_vect)\n",
        "del true_u_vect,true_v_vect,true_h_vect"
      ],
      "metadata": {
        "id": "0sTHsVuNKhoj"
      },
      "execution_count": 20,
      "outputs": []
    },
    {
      "cell_type": "code",
      "source": [
        "true_u_vect = np.load('/content/drive/MyDrive/Physics/Physics/Dataset10/true_u_full.npy', mmap_mode=\"r\")\n",
        "true_v_vect = np.load('/content/drive/MyDrive/Physics/Physics/Dataset10/true_v_full.npy', mmap_mode=\"r\")\n",
        "true_h_vect = np.load('/content/drive/MyDrive/Physics/Physics/Dataset10/true_h_full.npy', mmap_mode=\"r\")\n",
        "\n",
        "a = 300*150\n",
        "\n",
        "\n",
        "# Constants\n",
        "N = 64\n",
        "datasize = int(a)  # Ensure 'a' is defined earlier in your code\n",
        "\n",
        "# Initialize arrays\n",
        "true_data = np.zeros((datasize, N, N, 3))  # Combining u, v, h data into one array for simplicity\n",
        "vor_data = np.zeros((datasize, N, N, 3))\n",
        "\n",
        "# Grid preparation\n",
        "x, y = np.linspace(0., N, N), np.linspace(0., N, N)[::-1]\n",
        "X, Y = np.meshgrid(x, y)\n",
        "P = np.column_stack((X.flatten(), Y.flatten()))\n",
        "\n",
        "# Data processing and conditional plotting\n",
        "for index in range(datasize):\n",
        "    for vect, slice_idx in zip([true_u_vect, true_v_vect, true_h_vect], range(3)):\n",
        "        x_coord, y_coord = structure_obs(64, 2)\n",
        "        Zi = vect[index, x_coord.astype(int), N-1-y_coord.astype(int)]\n",
        "        Pi = np.column_stack((x_coord, y_coord))\n",
        "        Z_nearest = griddata(Pi, Zi, P, method=\"nearest\").reshape([N, N])\n",
        "        vor_data[index, :, :, slice_idx] = Z_nearest\n",
        "        true_data[index, :, :, slice_idx] = vect[index, :, :]\n",
        "\n",
        "'''    # Conditional plotting for specified indices\n",
        "    if index in plot_indices:\n",
        "        fig, axs = plt.subplots(1, 2, figsize=(12, 6), dpi=300)\n",
        "\n",
        "        # Plotting Voronoi \"u\" data\n",
        "        axs[0].imshow(vor_data[index, :, :, 1])\n",
        "        axs[0].scatter(x_coord, N - 1 - y_coord, c='red', s=60)\n",
        "\n",
        "        # Plotting True \"u\" data\n",
        "        axs[1].imshow(true_data[index, :, :, 0])\n",
        "        axs[1].scatter(x_coord, N - 1 - y_coord, c='red', s=60)\n",
        "        plt.show()'''\n",
        "# Correcting the data swap issue\n",
        "vor_u_data, vor_v_data = vor_data[..., 0], vor_data[..., 1]\n",
        "vor_h_data, true_u_data = vor_data[..., 2], true_data[..., 0]\n",
        "true_v_data, true_h_data = true_data[..., 1], true_data[..., 2]\n",
        "\n",
        "print(true_u_data.shape)\n",
        "print(true_u_vect.shape)\n",
        "# Save data\n",
        "np.save('/content/drive/MyDrive/Physics/Physics/Dataset10/vor_u_full.npy', vor_u_data)\n",
        "np.save('/content/drive/MyDrive/Physics/Physics/Dataset10/vor_v_full.npy', vor_v_data)\n",
        "np.save('/content/drive/MyDrive/Physics/Physics/Dataset10/vor_h_full.npy', vor_h_data)\n",
        "\n",
        "\n",
        "# Clean up\n",
        "del vor_u_data, vor_v_data, vor_h_data, true_u_data, true_v_data, true_h_data\n",
        "del true_u_vect, true_v_vect, true_h_vect\n"
      ],
      "metadata": {
        "colab": {
          "base_uri": "https://localhost:8080/"
        },
        "id": "T-15dw4mKppP",
        "outputId": "a6782a82-0903-4503-dad3-645cc62c6422"
      },
      "execution_count": 21,
      "outputs": [
        {
          "output_type": "stream",
          "name": "stdout",
          "text": [
            "(45000, 64, 64)\n",
            "(45000, 64, 64)\n"
          ]
        }
      ]
    },
    {
      "cell_type": "code",
      "source": [
        "vor_u_data = np.load('/content/drive/MyDrive/Physics/Physics/Dataset10/vor_u_full.npy', mmap_mode=\"r\")\n",
        "vor_v_data = np.load('/content/drive/MyDrive/Physics/Physics/Dataset10/vor_v_full.npy', mmap_mode=\"r\")\n",
        "vor_h_data = np.load('/content/drive/MyDrive/Physics/Physics/Dataset10/vor_h_full.npy', mmap_mode=\"r\")\n",
        "true_v_data = np.load('/content/drive/MyDrive/Physics/Physics/Dataset10/true_v_full.npy', mmap_mode=\"r\")\n",
        "true_u_data = np.load('/content/drive/MyDrive/Physics/Physics/Dataset10/true_u_full.npy', mmap_mode=\"r\")\n",
        "true_h_data = np.load('/content/drive/MyDrive/Physics/Physics/Dataset10/true_h_full.npy', mmap_mode=\"r\")\n",
        "\n",
        "datasize = 300*150\n",
        "# Create train and test indices\n",
        "train_rate = 0.80\n",
        "train_index = np.arange(0, int(datasize * train_rate))\n",
        "test_index = np.arange(train_index[-1] + 1, datasize)\n",
        "\n",
        "# Data categories\n",
        "data_types = ['u', 'v', 'h']\n",
        "vor_data = [vor_u_data, vor_v_data,vor_h_data]\n",
        "true_data = [true_v_data,true_u_data,true_h_data]\n",
        "\n",
        "# Initialize lists to store the split datasets\n",
        "vor_train, vor_test, true_train, true_test = [], [], [], []\n",
        "\n",
        "# Processing loop\n",
        "for vor, true in zip(vor_data, true_data):\n",
        "    # Split vor data\n",
        "    vor_train.append(vor[train_index])\n",
        "    vor_test.append(vor[test_index])\n",
        "\n",
        "    # Split true data\n",
        "    true_train.append(true[train_index])\n",
        "    true_test.append(true[test_index])\n",
        "\n",
        "# Final concatenation\n",
        "vor_train = np.stack(vor_train, axis=-1)\n",
        "true_train = np.stack(true_train, axis=-1)\n",
        "vor_test = np.stack(vor_test, axis=-1)\n",
        "true_test = np.stack(true_test, axis=-1)"
      ],
      "metadata": {
        "id": "oHF4pVgwKvBQ"
      },
      "execution_count": 22,
      "outputs": []
    },
    {
      "cell_type": "code",
      "source": [
        "import os\n",
        "\n",
        "# Directory to save the files\n",
        "save_dir = '/content/drive/MyDrive/Physics/Physics/Dataset10'\n",
        "\n",
        "# Create the directory if it doesn't exist\n",
        "os.makedirs(save_dir, exist_ok=True)\n",
        "\n",
        "# Save the arrays\n",
        "np.save(os.path.join(save_dir, 'vor_train.npy'), vor_train)\n",
        "np.save(os.path.join(save_dir, 'true_train.npy'), true_train)\n",
        "np.save(os.path.join(save_dir, 'vor_test.npy'), vor_test)\n",
        "np.save(os.path.join(save_dir, 'true_test.npy'), true_test)\n",
        "\n",
        "del vor_train,true_train,vor_test,true_test"
      ],
      "metadata": {
        "id": "hcUOmy6pK6pM"
      },
      "execution_count": 23,
      "outputs": []
    },
    {
      "cell_type": "code",
      "source": [
        "vor_train = np.load('/content/drive/MyDrive/Physics/Physics/Dataset/vor_train.npy', mmap_mode=\"r\")\n",
        "true_train = np.load('/content/drive/MyDrive/Physics/Physics/Dataset/true_train.npy', mmap_mode=\"r\")\n",
        "vor_test = np.load('/content/drive/MyDrive/Physics/Physics/Dataset/vor_test.npy', mmap_mode=\"r\")\n",
        "true_test = np.load('/content/drive/MyDrive/Physics/Physics/Dataset/true_test.npy', mmap_mode=\"r\")\n",
        "\n",
        "vor_image = np.vstack([vor_train,vor_test])\n",
        "true_image = np.vstack([true_train,true_test])"
      ],
      "metadata": {
        "id": "QVz-8sSlWH6k"
      },
      "execution_count": null,
      "outputs": []
    },
    {
      "cell_type": "code",
      "source": [],
      "metadata": {
        "id": "scMNZN91WPAU"
      },
      "execution_count": null,
      "outputs": []
    }
  ],
  "metadata": {
    "colab": {
      "collapsed_sections": [
        "qluwaMc-TsbA",
        "48QyI6mKsyCi",
        "UStRztAPMlOJ",
        "l8wLckDr1Lpz"
      ],
      "machine_shape": "hm",
      "provenance": [],
      "include_colab_link": true
    },
    "kernelspec": {
      "display_name": "Python 3",
      "name": "python3"
    },
    "language_info": {
      "codemirror_mode": {
        "name": "ipython",
        "version": 3
      },
      "file_extension": ".py",
      "mimetype": "text/x-python",
      "name": "python",
      "nbconvert_exporter": "python",
      "pygments_lexer": "ipython3",
      "version": "3.7.0"
    }
  },
  "nbformat": 4,
  "nbformat_minor": 0
}